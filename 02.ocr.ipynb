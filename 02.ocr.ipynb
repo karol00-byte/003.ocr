{
 "cells": [
  {
   "cell_type": "code",
   "execution_count": 1,
   "metadata": {},
   "outputs": [
    {
     "name": "stdout",
     "output_type": "stream",
     "text": [
      "D:\\07.wd_python\n"
     ]
    }
   ],
   "source": [
    "import os\n",
    "path=os.getcwd()\n",
    "print(path)"
   ]
  },
  {
   "cell_type": "code",
   "execution_count": 3,
   "metadata": {},
   "outputs": [
    {
     "name": "stdout",
     "output_type": "stream",
     "text": [
      "Requirement already satisfied: pillow in c:\\users\\lan\\anaconda3\\lib\\site-packages (8.0.1)\n",
      "Note: you may need to restart the kernel to use updated packages.\n"
     ]
    }
   ],
   "source": [
    "pip install pillow"
   ]
  },
  {
   "cell_type": "code",
   "execution_count": 4,
   "metadata": {},
   "outputs": [
    {
     "name": "stdout",
     "output_type": "stream",
     "text": [
      "Collecting pytesseract\n",
      "  Downloading pytesseract-0.3.8.tar.gz (14 kB)\n",
      "Requirement already satisfied: Pillow in c:\\users\\lan\\anaconda3\\lib\\site-packages (from pytesseract) (8.0.1)\n",
      "Building wheels for collected packages: pytesseract\n",
      "  Building wheel for pytesseract (setup.py): started\n",
      "  Building wheel for pytesseract (setup.py): finished with status 'done'\n",
      "  Created wheel for pytesseract: filename=pytesseract-0.3.8-py2.py3-none-any.whl size=14067 sha256=cddb70691d83b7b4e8f3618d348c6746eca52f98682f4acbfc853254777a2cd3\n",
      "  Stored in directory: c:\\users\\lan\\appdata\\local\\pip\\cache\\wheels\\ed\\8a\\c6\\40c7ec06c2dd3df636832537238128a1471bf9c1b6a3a9bf40\n",
      "Successfully built pytesseract\n",
      "Installing collected packages: pytesseract\n",
      "Successfully installed pytesseract-0.3.8\n",
      "Note: you may need to restart the kernel to use updated packages.\n"
     ]
    }
   ],
   "source": [
    "pip install pytesseract"
   ]
  },
  {
   "cell_type": "code",
   "execution_count": 2,
   "metadata": {},
   "outputs": [],
   "source": [
    "from PIL import Image\n",
    "import pytesseract\n",
    "pytesseract.pytesseract.tesseract_cmd = r\"C:\\Program Files\\Tesseract-OCR\\tesseract.exe\""
   ]
  },
  {
   "cell_type": "code",
   "execution_count": null,
   "metadata": {},
   "outputs": [],
   "source": []
  },
  {
   "cell_type": "code",
   "execution_count": 8,
   "metadata": {},
   "outputs": [],
   "source": [
    "img = Image.open(\"word2.jpg\")"
   ]
  },
  {
   "cell_type": "code",
   "execution_count": 9,
   "metadata": {},
   "outputs": [],
   "source": [
    "text = pytesseract.image_to_string(img, lang=\"eng\")  #chi_tra"
   ]
  },
  {
   "cell_type": "code",
   "execution_count": 10,
   "metadata": {},
   "outputs": [
    {
     "name": "stdout",
     "output_type": "stream",
     "text": [
      "BREAKING THE STATUE\n",
      "\n",
      "i have always known\n",
      "\n",
      "i just didn't understand\n",
      "the inner conflictions\n",
      "arresting our hands\n",
      "gravitating close enough\n",
      "expansive distamce between\n",
      "i couldn't give you more\n",
      "but i meant everything\n",
      "when the day comes\n",
      "\n",
      "you find your heart\n",
      "\n",
      "wants something more\n",
      "\n",
      "than a piece and a part\n",
      "your life will change\n",
      "like astatue set free\n",
      "\n",
      "to walk among us\n",
      "\n",
      "to created estiny\n",
      "\n",
      "we didn't break any rules\n",
      "we didn't make mistakes\n",
      "making beauty in loving\n",
      "making lovine for days\n",
      "\f",
      "\n"
     ]
    }
   ],
   "source": [
    "print(text)"
   ]
  },
  {
   "cell_type": "code",
   "execution_count": 3,
   "metadata": {},
   "outputs": [
    {
     "name": "stdout",
     "output_type": "stream",
     "text": [
      "口罩 的 正確 使用 時 機\n",
      "\n",
      "僅 能 過 沾 較 大 顆粒 , 可 作為 保 蝦 ~\n",
      "各 免 太 頭 士 臉 與 中 有 孔 骸骨 等 用 才\n",
      "清洗 後 可 重複 使用\n",
      "\n",
      "一 般 醫 六 用 , 有 號 吸 道 症狀 、 前 往\n",
      "\n",
      "醫院 等 密閉 不 通過 場所 , 或 前 往 有 || 可 咀 擋 95X 以 上 的 次 微米 類 由, 適\n",
      "廬 還 全 夫人 地 人 還 可 | | 人 第 暈 倆 國 人 員 全 用 、 點 中\n",
      "則 擴大 部 分 的 ! 抗 較 高 , 不 適合 一 般 民眾 長 時 間 配\n",
      "\n",
      " \n",
      "\n",
      "全 和 人 各 章 昌 廬 ' 覓 說 避免 重 複 使用 -\n",
      "\n",
      " \n",
      "\n",
      "2020/1/27 中 央 流行 疫情 指揮 中 心 關心 您 @ 和 WAS\n",
      "\f",
      "\n"
     ]
    }
   ],
   "source": [
    "img = Image.open(\"word1.jpg\")\n",
    "text = pytesseract.image_to_string(img, lang=\"chi_tra\")  #chi_tra\n",
    "print(text)"
   ]
  },
  {
   "cell_type": "code",
   "execution_count": 5,
   "metadata": {},
   "outputs": [
    {
     "name": "stdout",
     "output_type": "stream",
     "text": [
      "  \n",
      "\n",
      "Uk oe carr |\n",
      "> WH BO000CME < BAZ O0EMS ay 1\n",
      "Bl + AN709 + 000CHE : HS4@A&\n",
      "BST OOGHEH ~ BANOS El BY aE\n",
      "\n",
      "HGEBZGAS os\n",
      "\n",
      "COLL Sse\n",
      "TAA C OB)\n",
      "\n",
      " \n",
      "\n",
      "“MEL WS SS SA th BY WE SE Se HUI\n",
      "\n",
      "KURI BoE 0 HG 3) TN) BS S27, =\n",
      "YY SHH Nt ii 到 工 之 組 骨 「\n",
      "\n",
      "WMS NBG Me PSO ome\n",
      "HS Yseounjeubls puel yay yoy Bice cu gy\n",
      "\n",
      "‘sqe| Auied-pii\n",
      "Aq paysadsui Kjaunjnod axe pue “saniioey INMpa ch\n",
      "\n",
      "Ve painjoejnuew ase sjuawejddns 9JmleudiS puejyly\n",
      "\n",
      "               \n",
      "               \n",
      "\n",
      " \n",
      " \n",
      "\n",
      "Ne\n",
      "\n",
      "c+0S2,61996\n",
      "MTT WNT WN\n",
      "\n",
      "|\n",
      "\n",
      "/\n",
      "\n",
      "一 SY ga,\n",
      "\f",
      "\n"
     ]
    }
   ],
   "source": [
    "img = Image.open(\"word3.jpg\")\n",
    "text = pytesseract.image_to_string(img, lang=\"chi_tra+eng\")  #chi_tra\n",
    "print(text)"
   ]
  }
 ],
 "metadata": {
  "kernelspec": {
   "display_name": "Python 3",
   "language": "python",
   "name": "python3"
  },
  "language_info": {
   "codemirror_mode": {
    "name": "ipython",
    "version": 3
   },
   "file_extension": ".py",
   "mimetype": "text/x-python",
   "name": "python",
   "nbconvert_exporter": "python",
   "pygments_lexer": "ipython3",
   "version": "3.8.5"
  }
 },
 "nbformat": 4,
 "nbformat_minor": 4
}
